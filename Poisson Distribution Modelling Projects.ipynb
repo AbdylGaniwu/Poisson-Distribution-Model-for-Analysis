{
 "cells": [
  {
   "cell_type": "code",
   "execution_count": 1,
   "id": "2e96dea6-ba99-4a5e-a5d2-e0a28761ac3d",
   "metadata": {},
   "outputs": [],
   "source": [
    "import scipy.stats as stats\n",
    "import numpy as np"
   ]
  },
  {
   "cell_type": "code",
   "execution_count": null,
   "id": "bd7c4c9d-3a44-4498-b5b8-21bb90efc095",
   "metadata": {},
   "outputs": [],
   "source": []
  },
  {
   "cell_type": "markdown",
   "id": "3f831e50-f5d0-46a4-bd72-5cc1a8d9c21e",
   "metadata": {},
   "source": [
    "#### creating a variable: lam which represents the rate parameter of our distribution (lambda = 7 )"
   ]
  },
  {
   "cell_type": "code",
   "execution_count": 3,
   "id": "124e7b70-b512-43b6-bb41-9f989e71f525",
   "metadata": {},
   "outputs": [],
   "source": [
    "lam = 7"
   ]
  },
  {
   "cell_type": "code",
   "execution_count": null,
   "id": "af1b324e-59ae-4495-b379-15b02ab02371",
   "metadata": {},
   "outputs": [],
   "source": []
  },
  {
   "cell_type": "markdown",
   "id": "6049b861-a1a4-44cd-8ecc-d90f1e4d6746",
   "metadata": {},
   "source": [
    "# Distribution in Theory"
   ]
  },
  {
   "cell_type": "markdown",
   "id": "02807bae-ca66-4439-84fe-04307ea9cba6",
   "metadata": {},
   "source": [
    "## Question 1: What is the probability of observing exactly lam defects on a given day, where lam represents the average number of defects?"
   ]
  },
  {
   "cell_type": "code",
   "execution_count": 6,
   "id": "8f6781de-cb7e-4c44-866e-e10d8c02c0e8",
   "metadata": {},
   "outputs": [
    {
     "name": "stdout",
     "output_type": "stream",
     "text": [
      "0.14900277967433773\n"
     ]
    }
   ],
   "source": [
    "print(stats.poisson.pmf(lam, lam))"
   ]
  },
  {
   "cell_type": "code",
   "execution_count": null,
   "id": "499c8fc0-1b01-4ca1-8e8a-09b61bb4dc2c",
   "metadata": {},
   "outputs": [],
   "source": []
  },
  {
   "cell_type": "markdown",
   "id": "2cf3ed8a-1da9-4638-a872-637880ec826b",
   "metadata": {},
   "source": [
    "## Question 2: What is the probability of observing a day with at least 4 or fewer defects than the average number of defects on a given day?"
   ]
  },
  {
   "cell_type": "code",
   "execution_count": 8,
   "id": "133353f8-c47a-42cb-be65-0ff35c0fa365",
   "metadata": {},
   "outputs": [
    {
     "name": "stdout",
     "output_type": "stream",
     "text": [
      "0.17299160788207146\n"
     ]
    }
   ],
   "source": [
    "print(stats.poisson.cdf(4, lam))"
   ]
  },
  {
   "cell_type": "code",
   "execution_count": null,
   "id": "f55463e4-a48a-462a-bbf3-83625d51a0b9",
   "metadata": {},
   "outputs": [],
   "source": []
  },
  {
   "cell_type": "markdown",
   "id": "0576c2b7-5b9f-4aaf-9bef-72440fdb6a22",
   "metadata": {},
   "source": [
    "## Question 3: What is the probability of having more than 9 defects on a given day, given that this is considered a bad day?"
   ]
  },
  {
   "cell_type": "code",
   "execution_count": 9,
   "id": "680ef2ce-f038-483c-b622-32438affd090",
   "metadata": {},
   "outputs": [
    {
     "name": "stdout",
     "output_type": "stream",
     "text": [
      "0.16950406276132668\n"
     ]
    }
   ],
   "source": [
    "print(1 - stats.poisson.cdf(9, lam))"
   ]
  },
  {
   "cell_type": "code",
   "execution_count": null,
   "id": "6f585058-cc23-4710-9024-85312891703e",
   "metadata": {},
   "outputs": [],
   "source": []
  },
  {
   "cell_type": "markdown",
   "id": "f79c51d3-401c-4694-94b6-f3ba7ea488da",
   "metadata": {},
   "source": [
    "# Distribution in Practice:"
   ]
  },
  {
   "cell_type": "markdown",
   "id": "5a3c7bb8-d448-4556-9951-771ccc954af2",
   "metadata": {},
   "source": [
    "## Question 4: Create a variable named `year_defects` that contains 365 random values generated from a Poisson distribution, representing the number of defects for each day of the year."
   ]
  },
  {
   "cell_type": "code",
   "execution_count": 15,
   "id": "96460aea-5a0e-4b95-a909-4f69996c2a97",
   "metadata": {},
   "outputs": [
    {
     "name": "stdout",
     "output_type": "stream",
     "text": [
      "[10  7  8  5 12  8  6  7  4 14  3  7  5  9  3  7  2 12  3  7]\n"
     ]
    }
   ],
   "source": [
    "year_defects = stats.poisson.rvs(lam, size=365)\n",
    "\n",
    "# first 20 values in this data set\n",
    "print(year_defects[0:20])"
   ]
  },
  {
   "cell_type": "code",
   "execution_count": null,
   "id": "3113d740-5cb0-45aa-b991-6a2c56372e1d",
   "metadata": {},
   "outputs": [],
   "source": []
  },
  {
   "cell_type": "markdown",
   "id": "ed823b5e-dc24-4c68-858c-944b5e781da7",
   "metadata": {},
   "source": [
    "## Question 5: What is the total number of defects we would expect over 365 days if we expect 7 defects on a given day?"
   ]
  },
  {
   "cell_type": "code",
   "execution_count": 21,
   "id": "8d74d2c8-563f-4ae7-926d-0c855e16bb0b",
   "metadata": {},
   "outputs": [
    {
     "name": "stdout",
     "output_type": "stream",
     "text": [
      "2555\n"
     ]
    }
   ],
   "source": [
    "print(lam*365)"
   ]
  },
  {
   "cell_type": "code",
   "execution_count": null,
   "id": "e6ccdda5-6f72-4a7f-8ae4-4f1d5d05b38f",
   "metadata": {},
   "outputs": [],
   "source": []
  },
  {
   "cell_type": "markdown",
   "id": "2acfe6e3-6009-46b6-9aa0-f9c38885c74c",
   "metadata": {},
   "source": [
    "## Question 6: What is the total sum of the `year_defects` data set, and how does it compare to the expected total number of defects over 365 days?"
   ]
  },
  {
   "cell_type": "code",
   "execution_count": 24,
   "id": "fd2938e5-8096-4bc2-9416-109cf354e127",
   "metadata": {},
   "outputs": [
    {
     "name": "stdout",
     "output_type": "stream",
     "text": [
      "2664\n"
     ]
    }
   ],
   "source": [
    "print(sum(year_defects))"
   ]
  },
  {
   "cell_type": "code",
   "execution_count": null,
   "id": "6978bb74-227b-4b55-b584-027978e3e69e",
   "metadata": {},
   "outputs": [],
   "source": []
  },
  {
   "cell_type": "markdown",
   "id": "2b3faff8-0157-46a2-9e9c-5f6b6e23d8c5",
   "metadata": {},
   "source": [
    "## Question 7: What is the average number of defects per day in our dataset `year_defects`? How does this average compare to the expected daily average based on the rate parameter of the Poisson distribution?"
   ]
  },
  {
   "cell_type": "code",
   "execution_count": 25,
   "id": "f24fe8c1-66dd-4a4c-9307-a8d155eee0a5",
   "metadata": {},
   "outputs": [
    {
     "name": "stdout",
     "output_type": "stream",
     "text": [
      "7.298630136986302\n"
     ]
    }
   ],
   "source": [
    "print(np.mean(year_defects))"
   ]
  },
  {
   "cell_type": "code",
   "execution_count": null,
   "id": "121cd115-a313-4a0a-aff1-c768407c8a5e",
   "metadata": {},
   "outputs": [],
   "source": []
  },
  {
   "cell_type": "markdown",
   "id": "f3d811b6-c1cf-4543-b4d7-ea78d9acd685",
   "metadata": {},
   "source": [
    "## Question 8: What could be the highest (max) number of defects recorded in a single day, as that would indicate a particularly hectic day?"
   ]
  },
  {
   "cell_type": "code",
   "execution_count": 26,
   "id": "1869b8fe-4148-4973-abde-bc827b525349",
   "metadata": {},
   "outputs": [
    {
     "name": "stdout",
     "output_type": "stream",
     "text": [
      "16\n"
     ]
    }
   ],
   "source": [
    "print(year_defects.max())"
   ]
  },
  {
   "cell_type": "code",
   "execution_count": null,
   "id": "9a5fda9d-b134-49fb-adce-49bc5deb3f06",
   "metadata": {},
   "outputs": [],
   "source": []
  },
  {
   "cell_type": "markdown",
   "id": "fd5f9465-281a-4c17-9cf4-cb2063b8b800",
   "metadata": {},
   "source": [
    "# Question 9: What is the probability of observing the maximum value or more from the Poisson(7) distribution?"
   ]
  },
  {
   "cell_type": "code",
   "execution_count": 27,
   "id": "43184245-38e7-48fc-9aac-7d9f19ad056e",
   "metadata": {},
   "outputs": [
    {
     "name": "stdout",
     "output_type": "stream",
     "text": [
      "0.0009581831589177137\n"
     ]
    }
   ],
   "source": [
    "print(1 - stats.poisson.cdf(year_defects.max(), lam))"
   ]
  },
  {
   "cell_type": "code",
   "execution_count": null,
   "id": "1d0dcbcc-0751-4d5d-9b9c-74ceeb8c8a07",
   "metadata": {},
   "outputs": [],
   "source": []
  },
  {
   "cell_type": "markdown",
   "id": "3b4816fc-a4f4-48a8-a236-7d258aad90db",
   "metadata": {},
   "source": [
    "## Question 10: How many defects in a given day would put us in the 90th percentile of the Poisson(7) distribution, 90% of days, we will observe fewer defects than this number."
   ]
  },
  {
   "cell_type": "code",
   "execution_count": 28,
   "id": "9de95bb1-97b5-457a-9cf3-036949023ae5",
   "metadata": {},
   "outputs": [
    {
     "name": "stdout",
     "output_type": "stream",
     "text": [
      "10.0\n"
     ]
    }
   ],
   "source": [
    "print(stats.poisson.ppf(0.9, lam))"
   ]
  },
  {
   "cell_type": "code",
   "execution_count": null,
   "id": "c6c15279-5d2c-4fa6-b04b-2d2ea497f09a",
   "metadata": {},
   "outputs": [],
   "source": []
  },
  {
   "cell_type": "markdown",
   "id": "1661a720-1de0-42e3-9165-985c6cdf91e4",
   "metadata": {},
   "source": [
    "## Question 11: What is the proportion of dataset `year_defects` is greater than or equal to the number we calculated in the previous step?"
   ]
  },
  {
   "cell_type": "code",
   "execution_count": 30,
   "id": "732e3291-cc73-4afe-95c3-b68daccc20c3",
   "metadata": {},
   "outputs": [],
   "source": [
    "# By definition of a percentile, we would expect 1 - .90, or about 10% of days to be in this range.\n",
    "\n",
    "# Calculation:\n",
    "# 1) Count the number of values in the dataset `year_defects` that are greater than or equal to the 90th percentile value.\n",
    "# 2) Divide this number by the length of the dataset."
   ]
  },
  {
   "cell_type": "code",
   "execution_count": 31,
   "id": "630e9b15-c44f-48b5-8b8c-b7f62b4cc940",
   "metadata": {},
   "outputs": [
    {
     "name": "stdout",
     "output_type": "stream",
     "text": [
      "0.13150684931506848\n"
     ]
    }
   ],
   "source": [
    "print(sum(year_defects > stats.poisson.ppf(0.9,lam))/len(year_defects))"
   ]
  },
  {
   "cell_type": "code",
   "execution_count": null,
   "id": "2b1d8c80-8f93-4958-b208-37090326808d",
   "metadata": {},
   "outputs": [],
   "source": []
  },
  {
   "cell_type": "code",
   "execution_count": null,
   "id": "4f2d0508-a7eb-40f8-920b-d5ed2010abbf",
   "metadata": {},
   "outputs": [],
   "source": []
  }
 ],
 "metadata": {
  "kernelspec": {
   "display_name": "Python 3 (ipykernel)",
   "language": "python",
   "name": "python3"
  },
  "language_info": {
   "codemirror_mode": {
    "name": "ipython",
    "version": 3
   },
   "file_extension": ".py",
   "mimetype": "text/x-python",
   "name": "python",
   "nbconvert_exporter": "python",
   "pygments_lexer": "ipython3",
   "version": "3.12.3"
  }
 },
 "nbformat": 4,
 "nbformat_minor": 5
}
